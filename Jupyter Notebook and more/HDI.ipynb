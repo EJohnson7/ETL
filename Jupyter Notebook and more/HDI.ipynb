{
 "cells": [
  {
   "cell_type": "code",
   "execution_count": 1,
   "metadata": {},
   "outputs": [],
   "source": [
    "import pandas as pd\n",
    "import matplotlib.pyplot as plt\n",
    "import seaborn as sns\n",
    "%matplotlib inline\n",
    "from config import key\n",
    "from sqlalchemy import create_engine"
   ]
  },
  {
   "cell_type": "code",
   "execution_count": 2,
   "metadata": {},
   "outputs": [
    {
     "data": {
      "text/html": [
       "<div>\n",
       "<style scoped>\n",
       "    .dataframe tbody tr th:only-of-type {\n",
       "        vertical-align: middle;\n",
       "    }\n",
       "\n",
       "    .dataframe tbody tr th {\n",
       "        vertical-align: top;\n",
       "    }\n",
       "\n",
       "    .dataframe thead th {\n",
       "        text-align: right;\n",
       "    }\n",
       "</style>\n",
       "<table border=\"1\" class=\"dataframe\">\n",
       "  <thead>\n",
       "    <tr style=\"text-align: right;\">\n",
       "      <th></th>\n",
       "      <th>HDI Rank</th>\n",
       "      <th>Country</th>\n",
       "      <th>Human Development Index (HDI)</th>\n",
       "      <th>Life Expectancy at Birth</th>\n",
       "      <th>Expected Years of Education</th>\n",
       "      <th>Mean Years of Education</th>\n",
       "      <th>Gross National Income (GNI) per Capita</th>\n",
       "      <th>GNI per Capita Rank Minus HDI Rank</th>\n",
       "    </tr>\n",
       "  </thead>\n",
       "  <tbody>\n",
       "    <tr>\n",
       "      <th>0</th>\n",
       "      <td>1.0</td>\n",
       "      <td>Norway</td>\n",
       "      <td>0.944</td>\n",
       "      <td>81.6</td>\n",
       "      <td>17.5</td>\n",
       "      <td>12.6</td>\n",
       "      <td>64,992</td>\n",
       "      <td>5.0</td>\n",
       "    </tr>\n",
       "    <tr>\n",
       "      <th>1</th>\n",
       "      <td>2.0</td>\n",
       "      <td>Australia</td>\n",
       "      <td>0.935</td>\n",
       "      <td>82.4</td>\n",
       "      <td>20.2</td>\n",
       "      <td>13.0</td>\n",
       "      <td>42,261</td>\n",
       "      <td>17.0</td>\n",
       "    </tr>\n",
       "    <tr>\n",
       "      <th>2</th>\n",
       "      <td>3.0</td>\n",
       "      <td>Switzerland</td>\n",
       "      <td>0.930</td>\n",
       "      <td>83.0</td>\n",
       "      <td>15.8</td>\n",
       "      <td>12.8</td>\n",
       "      <td>56,431</td>\n",
       "      <td>6.0</td>\n",
       "    </tr>\n",
       "    <tr>\n",
       "      <th>3</th>\n",
       "      <td>4.0</td>\n",
       "      <td>Denmark</td>\n",
       "      <td>0.923</td>\n",
       "      <td>80.2</td>\n",
       "      <td>18.7</td>\n",
       "      <td>12.7</td>\n",
       "      <td>44,025</td>\n",
       "      <td>11.0</td>\n",
       "    </tr>\n",
       "    <tr>\n",
       "      <th>4</th>\n",
       "      <td>5.0</td>\n",
       "      <td>Netherlands</td>\n",
       "      <td>0.922</td>\n",
       "      <td>81.6</td>\n",
       "      <td>17.9</td>\n",
       "      <td>11.9</td>\n",
       "      <td>45,435</td>\n",
       "      <td>9.0</td>\n",
       "    </tr>\n",
       "  </tbody>\n",
       "</table>\n",
       "</div>"
      ],
      "text/plain": [
       "   HDI Rank      Country  Human Development Index (HDI)  \\\n",
       "0       1.0       Norway                          0.944   \n",
       "1       2.0    Australia                          0.935   \n",
       "2       3.0  Switzerland                          0.930   \n",
       "3       4.0      Denmark                          0.923   \n",
       "4       5.0  Netherlands                          0.922   \n",
       "\n",
       "   Life Expectancy at Birth  Expected Years of Education  \\\n",
       "0                      81.6                         17.5   \n",
       "1                      82.4                         20.2   \n",
       "2                      83.0                         15.8   \n",
       "3                      80.2                         18.7   \n",
       "4                      81.6                         17.9   \n",
       "\n",
       "   Mean Years of Education Gross National Income (GNI) per Capita  \\\n",
       "0                     12.6                                 64,992   \n",
       "1                     13.0                                 42,261   \n",
       "2                     12.8                                 56,431   \n",
       "3                     12.7                                 44,025   \n",
       "4                     11.9                                 45,435   \n",
       "\n",
       "   GNI per Capita Rank Minus HDI Rank  \n",
       "0                                 5.0  \n",
       "1                                17.0  \n",
       "2                                 6.0  \n",
       "3                                11.0  \n",
       "4                                 9.0  "
      ]
     },
     "execution_count": 2,
     "metadata": {},
     "output_type": "execute_result"
    }
   ],
   "source": [
    "csv_file = \"../Raw_Data/Kaggle/human_development.csv\"\n",
    "df = pd.read_csv(csv_file)\n",
    "df.head()"
   ]
  },
  {
   "cell_type": "code",
   "execution_count": 4,
   "metadata": {},
   "outputs": [
    {
     "data": {
      "text/html": [
       "<div>\n",
       "<style scoped>\n",
       "    .dataframe tbody tr th:only-of-type {\n",
       "        vertical-align: middle;\n",
       "    }\n",
       "\n",
       "    .dataframe tbody tr th {\n",
       "        vertical-align: top;\n",
       "    }\n",
       "\n",
       "    .dataframe thead th {\n",
       "        text-align: right;\n",
       "    }\n",
       "</style>\n",
       "<table border=\"1\" class=\"dataframe\">\n",
       "  <thead>\n",
       "    <tr style=\"text-align: right;\">\n",
       "      <th></th>\n",
       "      <th>HDI Rank</th>\n",
       "      <th>Country</th>\n",
       "      <th>Human Development Index (HDI)</th>\n",
       "    </tr>\n",
       "  </thead>\n",
       "  <tbody>\n",
       "    <tr>\n",
       "      <th>0</th>\n",
       "      <td>1.0</td>\n",
       "      <td>Norway</td>\n",
       "      <td>0.944</td>\n",
       "    </tr>\n",
       "    <tr>\n",
       "      <th>1</th>\n",
       "      <td>2.0</td>\n",
       "      <td>Australia</td>\n",
       "      <td>0.935</td>\n",
       "    </tr>\n",
       "    <tr>\n",
       "      <th>2</th>\n",
       "      <td>3.0</td>\n",
       "      <td>Switzerland</td>\n",
       "      <td>0.930</td>\n",
       "    </tr>\n",
       "    <tr>\n",
       "      <th>3</th>\n",
       "      <td>4.0</td>\n",
       "      <td>Denmark</td>\n",
       "      <td>0.923</td>\n",
       "    </tr>\n",
       "    <tr>\n",
       "      <th>4</th>\n",
       "      <td>5.0</td>\n",
       "      <td>Netherlands</td>\n",
       "      <td>0.922</td>\n",
       "    </tr>\n",
       "  </tbody>\n",
       "</table>\n",
       "</div>"
      ],
      "text/plain": [
       "   HDI Rank      Country  Human Development Index (HDI)\n",
       "0       1.0       Norway                          0.944\n",
       "1       2.0    Australia                          0.935\n",
       "2       3.0  Switzerland                          0.930\n",
       "3       4.0      Denmark                          0.923\n",
       "4       5.0  Netherlands                          0.922"
      ]
     },
     "execution_count": 4,
     "metadata": {},
     "output_type": "execute_result"
    }
   ],
   "source": [
    "hdi_df = df.iloc[:,:3]\n",
    "hdi_df.head()"
   ]
  },
  {
   "cell_type": "code",
   "execution_count": 5,
   "metadata": {},
   "outputs": [],
   "source": [
    "rds_connection_string = (f\"root:{key}@127.0.0.1/mortality\")\n",
    "engine = create_engine(f'mysql://{rds_connection_string}')"
   ]
  },
  {
   "cell_type": "code",
   "execution_count": 6,
   "metadata": {},
   "outputs": [
    {
     "data": {
      "text/plain": [
       "[]"
      ]
     },
     "execution_count": 6,
     "metadata": {},
     "output_type": "execute_result"
    }
   ],
   "source": [
    "engine.table_names()"
   ]
  },
  {
   "cell_type": "code",
   "execution_count": 8,
   "metadata": {},
   "outputs": [],
   "source": [
    "hdi_df.to_sql(name='hdi', con=engine, if_exists='append', index=True)"
   ]
  },
  {
   "cell_type": "code",
   "execution_count": null,
   "metadata": {},
   "outputs": [],
   "source": []
  }
 ],
 "metadata": {
  "kernelspec": {
   "display_name": "Python 3",
   "language": "python",
   "name": "python3"
  },
  "language_info": {
   "codemirror_mode": {
    "name": "ipython",
    "version": 3
   },
   "file_extension": ".py",
   "mimetype": "text/x-python",
   "name": "python",
   "nbconvert_exporter": "python",
   "pygments_lexer": "ipython3",
   "version": "3.7.1"
  }
 },
 "nbformat": 4,
 "nbformat_minor": 2
}
